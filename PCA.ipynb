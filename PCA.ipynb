{
 "cells": [
  {
   "cell_type": "markdown",
   "id": "1388b8f7",
   "metadata": {},
   "source": [
    "# Appendix"
   ]
  },
  {
   "cell_type": "markdown",
   "id": "dcb2e6d3",
   "metadata": {},
   "source": [
    "# Q4"
   ]
  },
  {
   "cell_type": "markdown",
   "id": "f8cc3811",
   "metadata": {},
   "source": [
    "#### Importing module & packages"
   ]
  },
  {
   "cell_type": "code",
   "execution_count": 3,
   "id": "e58482a1",
   "metadata": {},
   "outputs": [],
   "source": [
    "import os\n",
    "import numpy as np\n",
    "import matplotlib.pyplot as plt"
   ]
  },
  {
   "cell_type": "markdown",
   "id": "ab1e4465",
   "metadata": {},
   "source": [
    "#### Reading images into list"
   ]
  },
  {
   "cell_type": "code",
   "execution_count": 4,
   "id": "8753a6d7",
   "metadata": {},
   "outputs": [],
   "source": [
    "trainDataPath = \"./emotion_classification/train\"  # train data path\n",
    "testDataPath = \"./emotion_classification/test\"  # test data path\n",
    "trainDataList = os.listdir(trainDataPath) # creates list of train image data \n",
    "testDataList = os.listdir(testDataPath)   # creates list of test data path"
   ]
  },
  {
   "cell_type": "markdown",
   "id": "66f43529",
   "metadata": {},
   "source": [
    "#### Converting the list of image file name to list of image in array form"
   ]
  },
  {
   "cell_type": "code",
   "execution_count": 227,
   "id": "232d4ec4",
   "metadata": {},
   "outputs": [],
   "source": [
    "train_array=[] \n",
    "for i in range(0,len(trainDataList)):\n",
    "    img_path = os.path.join(trainDataPath,trainDataList[i])\n",
    "    temp = plt.imread(img_path,0)\n",
    "    train_array.append(temp)\n",
    "    \n",
    "test_array=[]\n",
    "for i in range(0,len(testDataList)):\n",
    "    img_path = os.path.join(testDataPath,testDataList[i])\n",
    "    temp = plt.imread(img_path,0)\n",
    "    test_array.append(temp)"
   ]
  },
  {
   "cell_type": "markdown",
   "id": "a6ffa6db",
   "metadata": {},
   "source": [
    "#### Data Matrix function "
   ]
  },
  {
   "cell_type": "code",
   "execution_count": 5,
   "id": "25d86351",
   "metadata": {},
   "outputs": [],
   "source": [
    "def DataMatrix(list_img_arr):\n",
    "    \"\"\"This function create a data matrix of R^(NxD) dimension\"\"\"\n",
    "    data_matrix_list=[] \n",
    "    \n",
    "    for img in list_img_arr:\n",
    "        data_matrix_list.append(img.flatten())\n",
    "        \n",
    "    data_matrix_arr = np.array(data_matrix_list)\n",
    "    return data_matrix_arr"
   ]
  },
  {
   "cell_type": "markdown",
   "id": "12a3e52d",
   "metadata": {},
   "source": [
    "#### Centre Data Matrix fucntion"
   ]
  },
  {
   "cell_type": "code",
   "execution_count": 229,
   "id": "547173e5",
   "metadata": {},
   "outputs": [],
   "source": [
    "def CentreDataMatrix(X_mat):\n",
    "    \"\"\"This function centres the data matrix around it's mean\"\"\"\n",
    "    mean_vec = X_mat.mean(axis=0)\n",
    "    X_mat = X_mat - mean_vec\n",
    "    return X_mat"
   ]
  },
  {
   "cell_type": "markdown",
   "id": "ae43f6d5",
   "metadata": {},
   "source": [
    "#### Training PCA"
   ]
  },
  {
   "cell_type": "code",
   "execution_count": 230,
   "id": "12f13ad5",
   "metadata": {},
   "outputs": [],
   "source": [
    "def TrainPCA(X, n, k):\n",
    "    \n",
    "    S = (1/n)*(X@X.T) # co-variance matrix    \n",
    "    eigVal, eigVec = np.linalg.eig(S) # eigen decomposition of co-variance matrix\n",
    "    index = eigVal.argsort()[::-1]   # sorted eigen values index in decreasing order    \n",
    "    eigVal = eigVal[index] # sorted eigen values\n",
    "    eigVec = eigVec[:,index] # eigen vec. corresponding to sorted eigen values   \n",
    "    u = (X.T@eigVec[:,:k])/(np.sqrt(eigVal[:k]*n))\n",
    "    return u"
   ]
  },
  {
   "cell_type": "markdown",
   "id": "fae5a4a7",
   "metadata": {},
   "source": [
    "#### Class label extraction from the list of image file name"
   ]
  },
  {
   "cell_type": "code",
   "execution_count": 231,
   "id": "65be10c2",
   "metadata": {},
   "outputs": [],
   "source": [
    "def ExtractClassLabel(ImgDataList):\n",
    "    classLabel = []\n",
    "    for i in ImgDataList:\n",
    "        if \"happy\" in i:\n",
    "            classLabel.append(\"happy\")\n",
    "        else:\n",
    "            classLabel.append(\"sad\")\n",
    "    return classLabel"
   ]
  },
  {
   "cell_type": "markdown",
   "id": "4eb7cf08",
   "metadata": {},
   "source": [
    "#### Training LDA"
   ]
  },
  {
   "cell_type": "code",
   "execution_count": 232,
   "id": "f92ff082",
   "metadata": {},
   "outputs": [],
   "source": [
    "def TrainLDA(y, happyIdx, sadIdx, k): \n",
    "    \n",
    "    happyDataMatrix = y[happyIdx,:]\n",
    "    sadDataMatrix = y[sadIdx,:]\n",
    "    \n",
    "    happyMean = happyDataMatrix.mean(axis=0)\n",
    "    sadMean = sadDataMatrix.mean(axis=0)\n",
    "    yMean = y.mean(axis=0)\n",
    "\n",
    "    x1 = (happyMean - yMean).reshape(k,1)\n",
    "    x2 = (sadMean - yMean).reshape(k,1)\n",
    "\n",
    "    Sb = len(happyIdx)*x1@x1.T + len(sadIdx)*x2@x2.T\n",
    "    Sw = (happyDataMatrix - happyMean).T@(happyDataMatrix - happyMean) + \\\n",
    "    (sadDataMatrix - sadMean).T@(sadDataMatrix - sadMean)\n",
    "    Soverall = np.linalg.inv(Sw)@Sb\n",
    "    \n",
    "    eVal, eVec = np.linalg.eig(Soverall)\n",
    "    largestEigValIdx = np.argmax(eVal)\n",
    "    largestEigVec = eVec[:,largestEigValIdx]\n",
    "    \n",
    "    return largestEigVec.real"
   ]
  },
  {
   "cell_type": "markdown",
   "id": "4b9bb739",
   "metadata": {},
   "source": [
    "#### Main Program"
   ]
  },
  {
   "cell_type": "code",
   "execution_count": 233,
   "id": "19103963",
   "metadata": {},
   "outputs": [],
   "source": [
    "d = 12\n",
    "N = len(trainDataList) \n",
    "\n",
    "Xtrain = DataMatrix(train_array)\n",
    "centered_Xtrain = CentreDataMatrix(Xtrain)\n",
    "U = TrainPCA(centered_Xtrain, N, d)\n",
    "\n",
    "# ouput of PCA on training data\n",
    "yTrain_PCA = centered_Xtrain@U\n",
    "\n",
    "Xtrain_target = ExtractClassLabel(trainDataList)\n",
    "\n",
    "happyTrainIdx = [i for i in range(0,len(Xtrain_target)) if Xtrain_target[i] == \"happy\"]\n",
    "sadTrainIdx = [i for i in range(0,len(Xtrain_target)) if Xtrain_target[i] == \"sad\"]\n",
    "\n",
    "happyTrainDataMatrix = yTrain_PCA[happyTrainIdx,:]\n",
    "sadTrainDataMatrix = yTrain_PCA[sadTrainIdx,:]\n",
    "\n",
    "# calculating w from the LDA\n",
    "W= TrainLDA(yTrain_PCA, happyTrainIdx, sadTrainIdx, d)\n",
    "\n",
    "# output of LDA for both happy and sad class\n",
    "yTrain_Happy_LDA = happyTrainDataMatrix@W\n",
    "yTrain_Sad_LDA = sadTrainDataMatrix@W\n",
    "\n",
    "# threshold value calculated from tarining data\n",
    "thresholdValue = (yTrain_Happy_LDA.max() + yTrain_Sad_LDA.min())/2 "
   ]
  },
  {
   "cell_type": "markdown",
   "id": "67dbbc5b",
   "metadata": {},
   "source": [
    "#### Analysis on training data"
   ]
  },
  {
   "cell_type": "code",
   "execution_count": 234,
   "id": "e92aa247",
   "metadata": {},
   "outputs": [
    {
     "data": {
      "image/png": "[encoded data removed]",
      "text/plain": [
       "<Figure size 432x288 with 1 Axes>"
      ]
     },
     "metadata": {
      "needs_background": "light"
     },
     "output_type": "display_data"
    }
   ],
   "source": [
    "# Train data classification plot\n",
    "plt.scatter(yTrain_Happy_LDA, np.zeros(len(happyTrainIdx)), label = \"Happy  Class\")\n",
    "plt.scatter(yTrain_Sad_LDA, np.zeros(len(sadTrainIdx)), label = \"Sad Class\")\n",
    "plt.axvline(x = thresholdValue, color = 'r', label = 'threshold')\n",
    "plt.grid()\n",
    "plt.title(f\"Classification result on training data using LDA, for d = {d} \")\n",
    "plt.legend()\n",
    "plt.show()"
   ]
  },
  {
   "cell_type": "markdown",
   "id": "0e1e447e",
   "metadata": {},
   "source": [
    "#### Analysis on Test Data "
   ]
  },
  {
   "cell_type": "code",
   "execution_count": 235,
   "id": "690bbee1",
   "metadata": {},
   "outputs": [
    {
     "name": "stdout",
     "output_type": "stream",
     "text": [
      "No. of misclassification observed on test data = 0\n"
     ]
    }
   ],
   "source": [
    "# computing centred test data\n",
    "Xtest = DataMatrix(test_array)\n",
    "Xtest_target = ExtractClassLabel(testDataList)\n",
    "centered_Xtest = Xtest - Xtrain.mean(axis=0)\n",
    "\n",
    "yTest_PCA = centered_Xtest@U\n",
    "YTest_LDA = yTest_PCA@W\n",
    "YTest_LDA\n",
    "\n",
    "predLabel = []\n",
    "\n",
    "# assigning label \n",
    "for i in YTest_LDA:\n",
    "    if i>thresholdValue:\n",
    "        predLabel.append(\"sad\")\n",
    "    else:\n",
    "        predLabel.append(\"happy\")\n",
    "\n",
    "# checking no. of miss-classification for test data\n",
    "misclassificationCount = 0\n",
    "for i in range(0,len(predLabel)):\n",
    "    if predLabel[i]==Xtest_target[i]:\n",
    "        continue\n",
    "    else:\n",
    "        misclassificationCount = misclassificationCount+1 \n",
    "        \n",
    "predHappyClass = YTest_LDA[np.array(predLabel)=='happy']\n",
    "predSadClass = YTest_LDA[np.array(predLabel)=='sad']\n",
    "\n",
    "print(f\"No. of misclassification observed on test data = {misclassificationCount}\")"
   ]
  },
  {
   "cell_type": "markdown",
   "id": "5e2c086b",
   "metadata": {},
   "source": [
    "#### Classification plot on test data"
   ]
  },
  {
   "cell_type": "code",
   "execution_count": 236,
   "id": "0b287789",
   "metadata": {},
   "outputs": [
    {
     "data": {
      "image/png": "[encoded data removed]",
      "text/plain": [
       "<Figure size 432x288 with 1 Axes>"
      ]
     },
     "metadata": {
      "needs_background": "light"
     },
     "output_type": "display_data"
    }
   ],
   "source": [
    "# test data classification plot\n",
    "plt.scatter(predHappyClass, np.zeros(len(predHappyClass)), label = \"Happy\")\n",
    "plt.scatter(predSadClass, np.zeros(len(predSadClass)), label = \"Sad\")\n",
    "plt.axvline(x = thresholdValue, color = 'r', label = 'threshold')\n",
    "plt.grid()\n",
    "plt.title(f\"Classification result on test data using LDA, for d = {d}\")\n",
    "plt.legend()\n",
    "plt.show()"
   ]
  }
 ],
 "metadata": {
  "kernelspec": {
   "display_name": "Python 3",
   "language": "python",
   "name": "python3"
  },
  "language_info": {
   "codemirror_mode": {
    "name": "ipython",
    "version": 3
   },
   "file_extension": ".py",
   "mimetype": "text/x-python",
   "name": "python",
   "nbconvert_exporter": "python",
   "pygments_lexer": "ipython3",
   "version": "3.9.5"
  }
 },
 "nbformat": 4,
 "nbformat_minor": 5
}
